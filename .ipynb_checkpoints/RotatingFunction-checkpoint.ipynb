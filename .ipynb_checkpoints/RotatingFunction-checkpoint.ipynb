{
 "cells": [
  {
   "cell_type": "code",
   "execution_count": 1,
   "metadata": {},
   "outputs": [],
   "source": [
    "import pandas as pd\n",
    "import numpy as np\n",
    "import math\n",
    "import matplotlib.pyplot as plt \n",
    "import seaborn as sns\n",
    "import statistics"
   ]
  },
  {
   "cell_type": "markdown",
   "metadata": {},
   "source": [
    "# 建立Rotating Mirror 的Function版本\n",
    "### 目的: 為設計出能使雷射移動最多距離的旋轉鏡組及凹面鏡的大小\n",
    "### 因此利用 Function輸入可調整參數(facent, rotatingR, Laserdist)，找出最佳的組合建構最佳的物理組合。"
   ]
  },
  {
   "cell_type": "code",
   "execution_count": 2,
   "metadata": {},
   "outputs": [],
   "source": [
    "def laserReflectionParabola(facent, rotatingR, Laserdist, ConcaveC, display):\n",
    "    '''\n",
    "    Input Parameter: \n",
    "        facent: values of mirror faces,\n",
    "        rotatingR: raduis of rotating mirror,\n",
    "        Laserdist: distance from center of rotating mirror to input laser position,\n",
    "        ConcaveC: fixed at 15 \n",
    "    \n",
    "    Return:\n",
    "        if display, the figure would be showed;\n",
    "        Return value: the moving distance of reflecting laser;   \n",
    "    '''\n",
    "    \n",
    "    # Rotating Mirror Parameters\n",
    "    N = facent # values of mirror faces\n",
    "    R = rotatingR # raduis of rotating mirror\n",
    "    theta = 2*math.pi/N\n",
    "    theta2 = np.arange(math.pi, math.pi+2*math.pi/N, 0.01)\n",
    "    ctheta = np.arange(0, 2*math.pi, 2*math.pi/N)\n",
    "\n",
    "\n",
    "    # Plot the Rotating mirror\n",
    "    x1 = R*np.cos(theta2)\n",
    "    y1 = R*np.sin(theta2) \n",
    "    x2 = R*np.cos(theta + theta2) \n",
    "    y2 = R*np.sin(theta + theta2) \n",
    "    xA = R*np.cos(ctheta)\n",
    "    yA = R*np.sin(ctheta)\n",
    "\n",
    "    for i in range(0,len(x1)):\n",
    "        k1 = [x1[i], x2[i]]\n",
    "        k2 = [y1[i], y2[i]]\n",
    "\n",
    "    y = Laserdist\n",
    "    x_laserPoint = []\n",
    "\n",
    "    for i in range(0, len(x1)):\n",
    "        slope_Mirror = (y2[i]-y1[i])/(x2[i]-x1[i])\n",
    "        slope_distance =   y1[i] - slope_Mirror*x1[i]\n",
    "        x_simulate = (-2-slope_distance)/slope_Mirror\n",
    "        if x_simulate > x1[i]:\n",
    "            x_laserPoint.append(x_simulate)\n",
    "        \n",
    "    glassMid = [statistics.mean(x_laserPoint), y]\n",
    "\n",
    "\n",
    "    # Concave Mirror Parameters\n",
    "    c = ConcaveC\n",
    "    xR = np.arange(-19.5, 0, 0.1)\n",
    "    yR = (1/(4*c))*(xR**2)\n",
    "    pR = [1/(4*c), 0]\n",
    "\n",
    "    # Plot the concave mirror\n",
    "    xRT = xR - abs(glassMid[0])\n",
    "    yRT = yR - abs(c - glassMid[1])\n",
    "\n",
    "    # 求出兩直線交角 (cthe)\n",
    "    # 並求出反射後線段點位(xthe, ythe)\n",
    "\n",
    "    cthe = []\n",
    "    xthe = []\n",
    "    ythe = []\n",
    "\n",
    "    for i in range(0, len(x_laserPoint)):\n",
    "        kkl = np.array([1, 0]).reshape(1, 2)\n",
    "        kk2 = np.array([(x2[i]-x1[i]), (y2[i]-y1[i])]).reshape(1, 2)\n",
    "        kklT = kkl.transpose()\n",
    "        uu = np.dot(kk2, kklT)\n",
    "        uuAll = uu/((np.linalg.norm(kklT))*(np.linalg.norm(kk2)))\n",
    "        # cthe.append(math.acos(uuAll)*180/math.pi)\n",
    "\n",
    "        # 求出兩直線交角 (cthe)\n",
    "        cthe.append(math.acos(uuAll))\n",
    "\n",
    "        # 並求出反射後線段點位(xthe, ythe)\n",
    "        xthe.append((x_laserPoint[i] - math.cos(math.pi - 2*cthe[i])))\n",
    "        ythe.append((y - math.sin(math.pi - 2*cthe[i])))\n",
    "\n",
    "\n",
    "    # 求出反射後線段 (slope_1stReflect)\n",
    "\n",
    "    slope_1stReflect = []\n",
    "    slope_1stReflectdistance = []\n",
    "\n",
    "    for i in range(0, len(xthe)):\n",
    "        # 求出反射後線段 (slope_1stReflect)ㄇ\n",
    "        slope_1st = (y-ythe[i])/(x_laserPoint[i]-xthe[i])\n",
    "        slope_1stdistance =   y - slope_1st*x_laserPoint[i]\n",
    "        slope_1stReflect.append(slope_1st)\n",
    "        slope_1stReflectdistance.append(slope_1stdistance)\n",
    "\n",
    "\n",
    "    # slope_1stReflectN = list([a for a in slope_1stReflect if a <4.75])\n",
    "\n",
    "    slope_1stReflectN = []\n",
    "    slope_1stReflectdistanceN = []\n",
    "    ctheN = []\n",
    "    xtheN = []\n",
    "    ytheN = []\n",
    "    x_laserPointN = []\n",
    "    for i in range(0, len(slope_1stReflect)):\n",
    "        if slope_1stReflect[i] <4.75 :\n",
    "            slope_1stReflectN.append(slope_1stReflect[i])\n",
    "            slope_1stReflectdistanceN.append(slope_1stReflectdistance[i])\n",
    "            ctheN.append(cthe[i])\n",
    "            xtheN.append(xthe[i])\n",
    "            ytheN.append(ythe[i])\n",
    "            x_laserPointN.append(x_laserPoint[i])\n",
    "\n",
    "    # Caculate the reflecting Points on concave mirror\n",
    "    xtry = np.arange(xRT.max(), xRT.min(), -0.1)\n",
    "    xc = []\n",
    "    yc = []  \n",
    "    for i in range(0, len(xtheN)):\n",
    "        k = 0\n",
    "        yTry = Laserdist \n",
    "        yCon = min(yRT)\n",
    "\n",
    "        xcc = []\n",
    "        ycc = []\n",
    "        while  yTry >= yCon:\n",
    "            if k <= len(xtry)-1:\n",
    "                # Reflecting Line Y Point \n",
    "                fitTry = np.polyfit([xtheN[i], x_laserPointN[i]], [ytheN[i], -2], 1)\n",
    "                line = np.poly1d(fitTry)\n",
    "                yTry = line(xtry[k])\n",
    "\n",
    "                # Concave Y points\n",
    "                yCon = pR[0]*(xtry[k]+abs(glassMid[0]))**2 - abs(c - glassMid[1])\n",
    "                # fitCon = np.polyfit(xRT, yRT, 1)\n",
    "                # lineC = np.poly1d(fitCon)\n",
    "                # yCon = lineC(xtry[k])\n",
    "                k +=1\n",
    "            else: \n",
    "                break\n",
    "\n",
    "        if k <= len(xtry)-1:\n",
    "            xcc.append(xtry[k-1])\n",
    "            ycc.append(pR[0]*(xtry[k-1]+abs(glassMid[0]))**2 - abs(c - glassMid[1]))\n",
    "        else:\n",
    "            xcc = []\n",
    "            ycc = []\n",
    "        \n",
    "        for i in range(0, len(xcc)):\n",
    "            if xcc[i] < -R:\n",
    "                xc.append(xcc[i])\n",
    "                yc.append(ycc[i])\n",
    "            \n",
    "    if xc == []:\n",
    "        ReflectingRange = math.nan\n",
    "        return ReflectingRange\n",
    "    \n",
    "    # 計算反射點在凹面鏡上焦點的斜率\n",
    "    # 求出第二次反射線上點位\n",
    "    slope_Conacave = []\n",
    "    cthe2 = []\n",
    "    xthe2 = []\n",
    "    ythe2 = []\n",
    "    for i in range(0, len(xc)):\n",
    "        xT = xc[i] + abs(glassMid[0])\n",
    "        slope_Conacave.append(2*pR[0]*xT)\n",
    "        kk3 = np.array([1, slope_1stReflectN[i]]).reshape(1, 2)\n",
    "        kk4 = np.array([1, slope_Conacave[i]]).reshape(1, 2)\n",
    "\n",
    "        kk3T = kkl.transpose()\n",
    "        uu2 = np.dot(kk4, kk3T)\n",
    "        uuAll2 = uu2/((np.linalg.norm(kk3T))*(np.linalg.norm(kk4)))\n",
    "        # cthe.append(math.acos(uuAll)*180/math.pi)\n",
    "\n",
    "        # 求出兩直線交角 (cthe2) & 反射點位 (xthe2 ythe2)\n",
    "        cthe2.append(math.acos(uuAll2))\n",
    "        xthe2.append((xc[i] + math.cos(math.pi + 2*cthe2[i] - 2*ctheN[i])))\n",
    "        ythe2.append((yc[i] + math.sin(math.pi + 2*cthe2[i] - 2*ctheN[i])))\n",
    "\n",
    "    # 求出第二次反射線段方程式\n",
    "    for i in range(0, len(xthe2)):\n",
    "        # slopes of 2nd reflecting lines \n",
    "        fit2ndLine = np.polyfit([xc[i], xthe2[i]], [yc[i], ythe2[i]], 1)\n",
    "        line2nd = np.poly1d(fit2ndLine)\n",
    "        if fit2ndLine[0] < 0:\n",
    "            x2ndline = np.arange(xRT.min(), xc[i], 0.1)    \n",
    "            y2ndline = line2nd(x2ndline)\n",
    "        else:\n",
    "            x2ndline = np.arange(xc[i], xRT.max(), 0.1)    \n",
    "            y2ndline = line2nd(x2ndline)\n",
    "            \n",
    "    \n",
    "    # Reture Values\n",
    "    ReflectingRange = abs(max(xc) - min(xc))\n",
    "    return ReflectingRange\n",
    "\n",
    "    # Plot the figure\n",
    "    if display:\n",
    "        fig, ax = plt.subplots(figsize=(12,10))\n",
    "        \n",
    "        # Plot the rotating face per 0.1 degree\n",
    "        for i in range(0,len(x1)):\n",
    "            ax.plot(k1, k2) # color=(1.0,0.2,0.3))\n",
    "            ax.plot([x1[i], 0], [y1[i], 0], color=(0,i**0.5 /10,i**0.5 /10))\n",
    "            ax.plot([0, x2[i]], [0, y2[i]], color=(0,(i**0.5)**0.9 /10, (i**(0.1)**0.9) /10))\n",
    "    \n",
    "        # Plot the rotating mirror frame\n",
    "        for i in range(0,len(xA)):\n",
    "            ax.plot([xA[i], 0], [yA[i], 0], color = 'black')\n",
    "        ax.plot(np.append(xA, xA[0]),np.append(yA, yA[0]),color = 'black')    \n",
    "        ax.axis('equal')\n",
    "        ax.set_xlabel('X [cm]')\n",
    "        ax.set_ylabel('Y [cm]')\n",
    "        \n",
    "        # Plot the laser points on mirror facent\n",
    "        ax.plot(x_laserPoint, [y]*len(x_laserPoint), marker = 'o', mfc='none', color = 'blue')\n",
    "        ax.axis('equal')\n",
    "        \n",
    "        # Plot the concave mirror\n",
    "        ax.plot(xRT, yRT, '-', color = 'black')\n",
    "        \n",
    "        # Plot the 2nd reflecting points on concave mirror\n",
    "        ax.plot(xc, yc, marker = 'o', mfc='none', color = 'gold')    \n",
    "        \n",
    "        # Plot lst reflecting Laser Lines \n",
    "        ax.plot([-25, glassMid[0]],[y, y], '-', color = 'red')\n",
    "        for i in range(0, len(xc)):\n",
    "            ax.plot([glassMid[0], xc[i]], [glassMid[1], yc[i]], '-', color = 'black')\n",
    "        \n",
    "        for i in range(0, len(xthe2)):\n",
    "            fit2ndLine = np.polyfit([xc[i], xthe2[i]], [yc[i], ythe2[i]], 1)\n",
    "            line2nd = np.poly1d(fit2ndLine)\n",
    "            if fit2ndLine[0] < 0:\n",
    "                x2ndline = np.arange(xRT.min()-5, xc[i], 0.1)    \n",
    "                y2ndline = line2nd(x2ndline)\n",
    "                ax.plot(x2ndline, y2ndline, '-', color = 'tomato')\n",
    "            else:\n",
    "                x2ndline = np.arange(xc[i], xRT.max(), 0.1)    \n",
    "                y2ndline = line2nd(x2ndline)\n",
    "                ax.plot(x2ndline, y2ndline, '-', color = 'tomato')\n",
    "        \n",
    "        ax.set_xlim([-25, 10])\n",
    "        ax.set_ylim([-18, 10])\n",
    "        \n",
    "    fig\n",
    "        "
   ]
  },
  {
   "cell_type": "code",
   "execution_count": 3,
   "metadata": {},
   "outputs": [
    {
     "data": {
      "text/plain": [
       "8.899999999999967"
      ]
     },
     "execution_count": 3,
     "metadata": {},
     "output_type": "execute_result"
    }
   ],
   "source": [
    "# test\n",
    "\n",
    "laserReflectionParabola(8, 5, -2, 15, 0)"
   ]
  },
  {
   "cell_type": "code",
   "execution_count": 4,
   "metadata": {},
   "outputs": [
    {
     "name": "stdout",
     "output_type": "stream",
     "text": [
      "     facent  rotatingR  Laserdist  ConcaveC  ReflectingDist\n",
      "0         8        4.0       -1.5        15            12.8\n",
      "1         8        4.0       -1.6        15            13.9\n",
      "2         8        4.0       -1.7        15            12.4\n",
      "3         8        4.0       -1.8        15            11.1\n",
      "4         8        4.0       -1.9        15            10.0\n",
      "..      ...        ...        ...       ...             ...\n",
      "160      16        6.0       -2.1        15            10.9\n",
      "161      16        6.0       -2.2        15            10.0\n",
      "162      16        6.0       -2.3        15             9.1\n",
      "163      16        6.0       -2.4        15             8.4\n",
      "164      16        6.0       -2.5        15             7.7\n",
      "\n",
      "[165 rows x 5 columns]\n"
     ]
    }
   ],
   "source": [
    "facent = np.arange(8, 20, 4)\n",
    "rotatingR = np.arange(4, 6.5, 0.5)\n",
    "Laserdist = np.arange(-1.5, -2.6, -0.1)\n",
    "ConcaveC =  15\n",
    "\n",
    "d = []\n",
    "for i in facent:\n",
    "    for j in rotatingR:\n",
    "        for k in Laserdist:\n",
    "                caculatDist = laserReflectionParabola(i, j, k, ConcaveC, 0)\n",
    "                d.append(\n",
    "                    {\n",
    "                        'facent' : i,\n",
    "                        'rotatingR' : j,\n",
    "                        'Laserdist' : k,\n",
    "                        'ConcaveC' : ConcaveC,\n",
    "                        'ReflectingDist' : caculatDist\n",
    "                    }\n",
    "                )\n",
    "\n",
    "RotatingValues_df = pd.DataFrame(d)\n",
    "print(RotatingValues_df)\n",
    "\n",
    "# Output .csv file\n",
    "# RotatingValues_df.to_csv(r'C:\\Users\\Hsiu-Chuan Hsu\\Desktop\\RotatingMirror_Python\\RotatingValues_df.csv', index = True, header=True)"
   ]
  },
  {
   "cell_type": "markdown",
   "metadata": {},
   "source": [
    "## 將嘗試的參數數值輸入後產出雷射最大移動距離，\n",
    "## 並存入DataFrame 進行分析"
   ]
  },
  {
   "cell_type": "code",
   "execution_count": 5,
   "metadata": {},
   "outputs": [
    {
     "name": "stdout",
     "output_type": "stream",
     "text": [
      "    facent  rotatingR  Laserdist  ConcaveC  ReflectingDist\n",
      "59      12        4.0       -1.9        15            15.4\n",
      "70      12        4.5       -1.9        15            15.3\n",
      "81      12        5.0       -1.9        15            15.2\n",
      "58      12        4.0       -1.8        15            15.1\n",
      "69      12        4.5       -1.8        15            15.0\n"
     ]
    }
   ],
   "source": [
    "# RotatingValues_df = pd.read_csv(r'C:\\Users\\Hsiu-Chuan Hsu\\Desktop\\RotatingMirror_Python\\RotatingValues_df.csv', index_col=0)\n",
    "\n",
    "# Read .csv file from github\n",
    "url = 'https://raw.githubusercontent.com/HsiuChuan/RotatingMirror/master/RotatingValues_df.csv'\n",
    "RotatingValues_df = pd.read_csv(url, index_col=0)\n",
    "joint_data = RotatingValues_df.sort_values( by = ['ReflectingDist'], ascending = False)\n",
    "print(joint_data.head())"
   ]
  },
  {
   "cell_type": "markdown",
   "metadata": {},
   "source": [
    "# 最終參數: \n",
    "### 玻璃面數(Facent) = 12 cm, \n",
    "### 旋轉半徑(RotatingR) = 4 cm, \n",
    "### 雷射入攝高度 (Laserdist) = -2 cm 時，\n",
    "### 產出雷射最大的移動距離(ReflectingDist) = 15.4 cm"
   ]
  },
  {
   "cell_type": "code",
   "execution_count": 6,
   "metadata": {},
   "outputs": [
    {
     "data": {
      "text/plain": [
       "<Figure size 864x720 with 0 Axes>"
      ]
     },
     "execution_count": 6,
     "metadata": {},
     "output_type": "execute_result"
    },
    {
     "data": {
      "text/plain": [
       "<Figure size 864x720 with 0 Axes>"
      ]
     },
     "metadata": {},
     "output_type": "display_data"
    },
    {
     "data": {
      "image/png": "[encoded data removed]",
      "text/plain": [
       "<Figure size 360x360 with 1 Axes>"
      ]
     },
     "metadata": {
      "needs_background": "light"
     },
     "output_type": "display_data"
    },
    {
     "data": {
      "image/png": "[encoded data removed]",
      "text/plain": [
       "<Figure size 360x360 with 1 Axes>"
      ]
     },
     "metadata": {
      "needs_background": "light"
     },
     "output_type": "display_data"
    },
    {
     "data": {
      "image/png": "[encoded data removed]",
      "text/plain": [
       "<Figure size 360x360 with 1 Axes>"
      ]
     },
     "metadata": {
      "needs_background": "light"
     },
     "output_type": "display_data"
    }
   ],
   "source": [
    "import seaborn as sns\n",
    "import matplotlib.pyplot as plt\n",
    "import matplotlib.ticker as mtick\n",
    "\n",
    "fig, (ax1, ax2, ax3) = plt.subplots(3, 0, figsize=(12,10))\n",
    "ax1 = sns.catplot(x = 'facent', y = 'ReflectingDist', data = RotatingValues_df, kind = 'box')\n",
    "ax2 = sns.catplot(x = 'rotatingR', y = 'ReflectingDist', data = RotatingValues_df, kind = 'box')\n",
    "ax3 = sns.catplot(x = 'Laserdist', y = 'ReflectingDist', data = RotatingValues_df, kind = 'box')\n",
    "ax3.set_xticklabels(rotation=90)\n",
    "\n",
    "\n",
    "ax1.set(xlabel = 'Facent', ylabel = 'Reflecting Distance [cm]')\n",
    "ax2.set(xlabel = 'Radius of Rotating Mirror [cm]', ylabel = 'Reflecting Distance [cm]')\n",
    "ax3.set(xlabel = 'Laser Dist From Center [cm]', ylabel = 'Reflecting Distance [cm]')\n",
    "fig"
   ]
  },
  {
   "cell_type": "code",
   "execution_count": 7,
   "metadata": {},
   "outputs": [
    {
     "data": {
      "image/png": "[encoded data removed]",
      "text/plain": [
       "<Figure size 720x360 with 1 Axes>"
      ]
     },
     "metadata": {
      "needs_background": "light"
     },
     "output_type": "display_data"
    }
   ],
   "source": [
    "plt.figure(figsize = (10,5))\n",
    "sns.set(style = 'darkgrid')\n",
    "sns.scatterplot(x = 'ReflectingDist', y = 'Laserdist', data = RotatingValues_df,size = 'ReflectingDist', hue = 'facent', alpha=.5, palette = 'rocket')\n",
    "# gScatter.fig_set_inches(15,10)\n",
    "plt.axis('tight')\n",
    "plt.xlabel('Reflecting Distance [cm]')\n",
    "plt.ylabel('Laser From Center Point Distance [cm]')\n",
    "plt.show()"
   ]
  },
  {
   "cell_type": "code",
   "execution_count": null,
   "metadata": {},
   "outputs": [],
   "source": []
  }
 ],
 "metadata": {
  "kernelspec": {
   "display_name": "Python 3",
   "language": "python",
   "name": "python3"
  },
  "language_info": {
   "codemirror_mode": {
    "name": "ipython",
    "version": 3
   },
   "file_extension": ".py",
   "mimetype": "text/x-python",
   "name": "python",
   "nbconvert_exporter": "python",
   "pygments_lexer": "ipython3",
   "version": "3.7.6"
  }
 },
 "nbformat": 4,
 "nbformat_minor": 4
}
